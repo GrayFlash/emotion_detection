{
 "cells": [
  {
   "cell_type": "code",
   "execution_count": 1,
   "metadata": {},
   "outputs": [],
   "source": [
    "import os\n",
    "import shutil\n",
    "import PIL\n",
    "import numpy as np\n",
    "import matplotlib.pyplot as plt\n",
    "import dlib\n",
    "import cv2"
   ]
  },
  {
   "cell_type": "code",
   "execution_count": 2,
   "metadata": {},
   "outputs": [],
   "source": [
    "# General Cell that initializes the Module Path\n",
    "# To be used only if needed \n",
    "Model_PATH = \"dlib_trial_weights.dat\"\n",
    "frontalFaceDetector = dlib.get_frontal_face_detector()\n",
    "faceLandmarkDetector = dlib.shape_predictor(Model_PATH)"
   ]
  },
  {
   "cell_type": "code",
   "execution_count": 3,
   "metadata": {},
   "outputs": [],
   "source": [
    "base_dir = 'IMFDB_final'"
   ]
  },
  {
   "cell_type": "code",
   "execution_count": 9,
   "metadata": {},
   "outputs": [],
   "source": [
    "actors_dir = []\n"
   ]
  },
  {
   "cell_type": "code",
   "execution_count": 10,
   "metadata": {},
   "outputs": [
    {
     "name": "stdout",
     "output_type": "stream",
     "text": [
      "['AkshayKumar', 'HrithikRoshan', 'Vajramuni', 'AamairKhan', 'PrakashRaj', 'AnupamKher', 'SharukhKhan', 'JayaBhaduri', 'Jagathi', 'Soundarya', 'PareshRaval', 'Vishnuvardhan', 'Jayaprakash', 'Aarthi', 'Lakshmidevi', 'Dwarkish', 'Mammukoya', 'Annapoorna', 'SharmilaTagore', 'Venkatesh', 'Umashri', 'Innocent', 'K.Viswanath', 'Cochinhaneefa', 'Rameshbhatt', 'Shashikumar', 'KatrinaKaif', 'SailendraMukherjee', 'Mamootty', 'Madhu', 'Ali', 'Suryakantham', 'Dr.Rajkumar', 'Srihari', 'Pavithralokesh', 'RamanaReddy', 'RamyaKrishna', 'RishiKapoor', 'Mukesh', 'Ambresh', 'Prema', 'Jayram', 'Loknath', 'Mohanlal', 'SureshGopi', 'KajalAgarwal', 'Jamuna', 'Bhanupriya', 'TanikellaBharani', 'Balakrishna', 'KavyaMadhavan', 'AmitabhBachchan', 'VinodKhanna', 'Dileep', 'NTR', 'Madhavan', 'FaridaJalal', 'PremaNazir', 'Brahmanandam', 'Mallikarjunrao', 'Kajol', 'Siddique', 'BabuMohan', 'Leelavathi', 'Ranimukherji', 'RameshArvind', 'Relangi', 'Bharathi', 'RajeshKhanna', 'KareenaKapoor', 'BomanIrani', 'Shivaram', 'Ashwath', 'JosePrakash', 'MadhabiMukherjee', 'RakheeGulzar', 'Thilakan', 'Rimisen', 'SoumithraChatterjee', 'Shobana', 'AnilKapoor', 'Simran', 'Savithri', 'MadhuriDixit', 'SVR', 'Jagadeesh', 'JagapathiBabu', 'AmrishPuri', 'Nagarjuna', 'ANR', 'M.S.Narayana', 'Trisha', 'SalmanKhan', 'KarunaBenerjee', 'KotaSrinivasarao', 'Tenniskrishna', 'ShilpaShetty', 'NedumudiVenu', 'Ramaprabha', 'Avinash']\n"
     ]
    }
   ],
   "source": [
    "for i, j, k in os.walk(base_dir):\n",
    "    print(j)\n",
    "    actors_dir = j\n",
    "    break"
   ]
  },
  {
   "cell_type": "code",
   "execution_count": 11,
   "metadata": {},
   "outputs": [
    {
     "data": {
      "text/plain": [
       "100"
      ]
     },
     "execution_count": 11,
     "metadata": {},
     "output_type": "execute_result"
    }
   ],
   "source": [
    "len(actors_dir)"
   ]
  },
  {
   "cell_type": "code",
   "execution_count": 23,
   "metadata": {},
   "outputs": [],
   "source": [
    "movies = []"
   ]
  },
  {
   "cell_type": "code",
   "execution_count": 24,
   "metadata": {},
   "outputs": [],
   "source": [
    "for actor in actors_dir:\n",
    "    for i, j, k in os.walk(base_dir+'/'+actor):\n",
    "        #print(i, j, k)\n",
    "        movies.append(j)\n",
    "        break"
   ]
  },
  {
   "cell_type": "code",
   "execution_count": 25,
   "metadata": {},
   "outputs": [
    {
     "data": {
      "text/plain": [
       "100"
      ]
     },
     "execution_count": 25,
     "metadata": {},
     "output_type": "execute_result"
    }
   ],
   "source": [
    "len(movies)"
   ]
  },
  {
   "cell_type": "code",
   "execution_count": 74,
   "metadata": {},
   "outputs": [],
   "source": [
    "datas = []\n",
    "emo_count = {\"NEUTRAL\":0,\n",
    "             \"HAPPINESS\":0,\n",
    "             \"ANGER\":0,\n",
    "             \"DISGUST\":0,\n",
    "             \"SURPRISE\":0,\n",
    "             \"FEAR\":0,\n",
    "             \"SADNESS\":0\n",
    "            }"
   ]
  },
  {
   "cell_type": "code",
   "execution_count": 79,
   "metadata": {},
   "outputs": [],
   "source": [
    "i=0\n",
    "count = 0\n",
    "for actor in actors_dir:\n",
    "    for movie in movies[i]:\n",
    "        curr_dir = base_dir+'/'+actor+'/'+movie+'/'\n",
    "        try:\n",
    "            f = open(curr_dir+movie+\".txt\", \"r\")\n",
    "            for line in f:\n",
    "                words = line.split(\"\\t\")\n",
    "                if(words[0] == '\\n'):\n",
    "                    continue\n",
    "                #13th index for quality\n",
    "                #11th index for emotion\n",
    "                #2nd index for image \n",
    "                #15th for orientation of face\n",
    "                #print(words)\n",
    "                try:\n",
    "                    if len(words) >= 16 and words[13] != 'BAD' and words[11] != 'NONE':\n",
    "                        #print(words[11])\n",
    "                        emo_count[words[11]]+=1\n",
    "                        count += 1\n",
    "                        img = cv2.imread(curr_dir+'images/'+words[2])\n",
    "                except KeyError:\n",
    "                    pass\n",
    "                #data = [curr_dir+'/'+words[2], ] \n",
    "                #print()\n",
    "        except FileNotFoundError:\n",
    "            pass\n",
    "    i+=1"
   ]
  },
  {
   "cell_type": "code",
   "execution_count": 80,
   "metadata": {},
   "outputs": [
    {
     "data": {
      "text/plain": [
       "21157"
      ]
     },
     "execution_count": 80,
     "metadata": {},
     "output_type": "execute_result"
    }
   ],
   "source": [
    "count"
   ]
  },
  {
   "cell_type": "code",
   "execution_count": 81,
   "metadata": {},
   "outputs": [
    {
     "data": {
      "text/plain": [
       "100"
      ]
     },
     "execution_count": 81,
     "metadata": {},
     "output_type": "execute_result"
    }
   ],
   "source": [
    "i"
   ]
  },
  {
   "cell_type": "code",
   "execution_count": 82,
   "metadata": {
    "scrolled": true
   },
   "outputs": [
    {
     "data": {
      "text/plain": [
       "{'NEUTRAL': 8235,\n",
       " 'HAPPINESS': 7356,\n",
       " 'ANGER': 2304,\n",
       " 'DISGUST': 2553,\n",
       " 'SURPRISE': 1656,\n",
       " 'FEAR': 395,\n",
       " 'SADNESS': 2754}"
      ]
     },
     "execution_count": 82,
     "metadata": {},
     "output_type": "execute_result"
    }
   ],
   "source": [
    "emo_count"
   ]
  },
  {
   "cell_type": "code",
   "execution_count": null,
   "metadata": {},
   "outputs": [],
   "source": []
  }
 ],
 "metadata": {
  "kernelspec": {
   "display_name": "Python 3",
   "language": "python",
   "name": "python3"
  },
  "language_info": {
   "codemirror_mode": {
    "name": "ipython",
    "version": 3
   },
   "file_extension": ".py",
   "mimetype": "text/x-python",
   "name": "python",
   "nbconvert_exporter": "python",
   "pygments_lexer": "ipython3",
   "version": "3.7.6"
  }
 },
 "nbformat": 4,
 "nbformat_minor": 4
}
